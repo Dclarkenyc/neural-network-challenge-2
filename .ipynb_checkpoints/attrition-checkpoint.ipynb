{
 "cells": [
  {
   "cell_type": "markdown",
   "metadata": {
    "id": "alIIEHibGc3M"
   },
   "source": [
    "## Part 1: Preprocessing"
   ]
  },
  {
   "cell_type": "code",
   "execution_count": 1,
   "metadata": {
    "colab": {
     "base_uri": "https://localhost:8080/",
     "height": 325
    },
    "id": "6eDUJ4NtGc3P",
    "outputId": "2480098c-135c-4cbf-9552-018494ee8ff5"
   },
   "outputs": [
    {
     "data": {
      "text/html": [
       "<div>\n",
       "<style scoped>\n",
       "    .dataframe tbody tr th:only-of-type {\n",
       "        vertical-align: middle;\n",
       "    }\n",
       "\n",
       "    .dataframe tbody tr th {\n",
       "        vertical-align: top;\n",
       "    }\n",
       "\n",
       "    .dataframe thead th {\n",
       "        text-align: right;\n",
       "    }\n",
       "</style>\n",
       "<table border=\"1\" class=\"dataframe\">\n",
       "  <thead>\n",
       "    <tr style=\"text-align: right;\">\n",
       "      <th></th>\n",
       "      <th>Age</th>\n",
       "      <th>Attrition</th>\n",
       "      <th>BusinessTravel</th>\n",
       "      <th>Department</th>\n",
       "      <th>DistanceFromHome</th>\n",
       "      <th>Education</th>\n",
       "      <th>EducationField</th>\n",
       "      <th>EnvironmentSatisfaction</th>\n",
       "      <th>HourlyRate</th>\n",
       "      <th>JobInvolvement</th>\n",
       "      <th>...</th>\n",
       "      <th>PerformanceRating</th>\n",
       "      <th>RelationshipSatisfaction</th>\n",
       "      <th>StockOptionLevel</th>\n",
       "      <th>TotalWorkingYears</th>\n",
       "      <th>TrainingTimesLastYear</th>\n",
       "      <th>WorkLifeBalance</th>\n",
       "      <th>YearsAtCompany</th>\n",
       "      <th>YearsInCurrentRole</th>\n",
       "      <th>YearsSinceLastPromotion</th>\n",
       "      <th>YearsWithCurrManager</th>\n",
       "    </tr>\n",
       "  </thead>\n",
       "  <tbody>\n",
       "    <tr>\n",
       "      <th>0</th>\n",
       "      <td>41</td>\n",
       "      <td>Yes</td>\n",
       "      <td>Travel_Rarely</td>\n",
       "      <td>Sales</td>\n",
       "      <td>1</td>\n",
       "      <td>2</td>\n",
       "      <td>Life Sciences</td>\n",
       "      <td>2</td>\n",
       "      <td>94</td>\n",
       "      <td>3</td>\n",
       "      <td>...</td>\n",
       "      <td>3</td>\n",
       "      <td>1</td>\n",
       "      <td>0</td>\n",
       "      <td>8</td>\n",
       "      <td>0</td>\n",
       "      <td>1</td>\n",
       "      <td>6</td>\n",
       "      <td>4</td>\n",
       "      <td>0</td>\n",
       "      <td>5</td>\n",
       "    </tr>\n",
       "    <tr>\n",
       "      <th>1</th>\n",
       "      <td>49</td>\n",
       "      <td>No</td>\n",
       "      <td>Travel_Frequently</td>\n",
       "      <td>Research &amp; Development</td>\n",
       "      <td>8</td>\n",
       "      <td>1</td>\n",
       "      <td>Life Sciences</td>\n",
       "      <td>3</td>\n",
       "      <td>61</td>\n",
       "      <td>2</td>\n",
       "      <td>...</td>\n",
       "      <td>4</td>\n",
       "      <td>4</td>\n",
       "      <td>1</td>\n",
       "      <td>10</td>\n",
       "      <td>3</td>\n",
       "      <td>3</td>\n",
       "      <td>10</td>\n",
       "      <td>7</td>\n",
       "      <td>1</td>\n",
       "      <td>7</td>\n",
       "    </tr>\n",
       "    <tr>\n",
       "      <th>2</th>\n",
       "      <td>37</td>\n",
       "      <td>Yes</td>\n",
       "      <td>Travel_Rarely</td>\n",
       "      <td>Research &amp; Development</td>\n",
       "      <td>2</td>\n",
       "      <td>2</td>\n",
       "      <td>Other</td>\n",
       "      <td>4</td>\n",
       "      <td>92</td>\n",
       "      <td>2</td>\n",
       "      <td>...</td>\n",
       "      <td>3</td>\n",
       "      <td>2</td>\n",
       "      <td>0</td>\n",
       "      <td>7</td>\n",
       "      <td>3</td>\n",
       "      <td>3</td>\n",
       "      <td>0</td>\n",
       "      <td>0</td>\n",
       "      <td>0</td>\n",
       "      <td>0</td>\n",
       "    </tr>\n",
       "    <tr>\n",
       "      <th>3</th>\n",
       "      <td>33</td>\n",
       "      <td>No</td>\n",
       "      <td>Travel_Frequently</td>\n",
       "      <td>Research &amp; Development</td>\n",
       "      <td>3</td>\n",
       "      <td>4</td>\n",
       "      <td>Life Sciences</td>\n",
       "      <td>4</td>\n",
       "      <td>56</td>\n",
       "      <td>3</td>\n",
       "      <td>...</td>\n",
       "      <td>3</td>\n",
       "      <td>3</td>\n",
       "      <td>0</td>\n",
       "      <td>8</td>\n",
       "      <td>3</td>\n",
       "      <td>3</td>\n",
       "      <td>8</td>\n",
       "      <td>7</td>\n",
       "      <td>3</td>\n",
       "      <td>0</td>\n",
       "    </tr>\n",
       "    <tr>\n",
       "      <th>4</th>\n",
       "      <td>27</td>\n",
       "      <td>No</td>\n",
       "      <td>Travel_Rarely</td>\n",
       "      <td>Research &amp; Development</td>\n",
       "      <td>2</td>\n",
       "      <td>1</td>\n",
       "      <td>Medical</td>\n",
       "      <td>1</td>\n",
       "      <td>40</td>\n",
       "      <td>3</td>\n",
       "      <td>...</td>\n",
       "      <td>3</td>\n",
       "      <td>4</td>\n",
       "      <td>1</td>\n",
       "      <td>6</td>\n",
       "      <td>3</td>\n",
       "      <td>3</td>\n",
       "      <td>2</td>\n",
       "      <td>2</td>\n",
       "      <td>2</td>\n",
       "      <td>2</td>\n",
       "    </tr>\n",
       "  </tbody>\n",
       "</table>\n",
       "<p>5 rows × 27 columns</p>\n",
       "</div>"
      ],
      "text/plain": [
       "   Age Attrition     BusinessTravel              Department  DistanceFromHome  \\\n",
       "0   41       Yes      Travel_Rarely                   Sales                 1   \n",
       "1   49        No  Travel_Frequently  Research & Development                 8   \n",
       "2   37       Yes      Travel_Rarely  Research & Development                 2   \n",
       "3   33        No  Travel_Frequently  Research & Development                 3   \n",
       "4   27        No      Travel_Rarely  Research & Development                 2   \n",
       "\n",
       "   Education EducationField  EnvironmentSatisfaction  HourlyRate  \\\n",
       "0          2  Life Sciences                        2          94   \n",
       "1          1  Life Sciences                        3          61   \n",
       "2          2          Other                        4          92   \n",
       "3          4  Life Sciences                        4          56   \n",
       "4          1        Medical                        1          40   \n",
       "\n",
       "   JobInvolvement  ...  PerformanceRating RelationshipSatisfaction  \\\n",
       "0               3  ...                  3                        1   \n",
       "1               2  ...                  4                        4   \n",
       "2               2  ...                  3                        2   \n",
       "3               3  ...                  3                        3   \n",
       "4               3  ...                  3                        4   \n",
       "\n",
       "   StockOptionLevel TotalWorkingYears  TrainingTimesLastYear WorkLifeBalance  \\\n",
       "0                 0                 8                      0               1   \n",
       "1                 1                10                      3               3   \n",
       "2                 0                 7                      3               3   \n",
       "3                 0                 8                      3               3   \n",
       "4                 1                 6                      3               3   \n",
       "\n",
       "   YearsAtCompany  YearsInCurrentRole  YearsSinceLastPromotion  \\\n",
       "0               6                   4                        0   \n",
       "1              10                   7                        1   \n",
       "2               0                   0                        0   \n",
       "3               8                   7                        3   \n",
       "4               2                   2                        2   \n",
       "\n",
       "   YearsWithCurrManager  \n",
       "0                     5  \n",
       "1                     7  \n",
       "2                     0  \n",
       "3                     0  \n",
       "4                     2  \n",
       "\n",
       "[5 rows x 27 columns]"
      ]
     },
     "execution_count": 1,
     "metadata": {},
     "output_type": "execute_result"
    }
   ],
   "source": [
    "# Import our dependencies\n",
    "from sklearn.model_selection import train_test_split\n",
    "from sklearn.preprocessing import StandardScaler\n",
    "import pandas as pd\n",
    "import numpy as np\n",
    "from tensorflow.keras.models import Model\n",
    "from tensorflow.keras import layers\n",
    "\n",
    "#  Import and read the attrition data\n",
    "attrition_df = pd.read_csv('https://static.bc-edx.com/ai/ail-v-1-0/m19/lms/datasets/attrition.csv')\n",
    "attrition_df.head()"
   ]
  },
  {
   "cell_type": "code",
   "execution_count": 2,
   "metadata": {
    "colab": {
     "base_uri": "https://localhost:8080/"
    },
    "id": "g22aQSY4Gc3Q",
    "outputId": "1f5c13c1-b981-4e40-a7ed-dd3fe6f1b81e",
    "scrolled": true
   },
   "outputs": [
    {
     "data": {
      "text/plain": [
       "Age                         43\n",
       "Attrition                    2\n",
       "BusinessTravel               3\n",
       "Department                   3\n",
       "DistanceFromHome            29\n",
       "Education                    5\n",
       "EducationField               6\n",
       "EnvironmentSatisfaction      4\n",
       "HourlyRate                  71\n",
       "JobInvolvement               4\n",
       "JobLevel                     5\n",
       "JobRole                      9\n",
       "JobSatisfaction              4\n",
       "MaritalStatus                3\n",
       "NumCompaniesWorked          10\n",
       "OverTime                     2\n",
       "PercentSalaryHike           15\n",
       "PerformanceRating            2\n",
       "RelationshipSatisfaction     4\n",
       "StockOptionLevel             4\n",
       "TotalWorkingYears           40\n",
       "TrainingTimesLastYear        7\n",
       "WorkLifeBalance              4\n",
       "YearsAtCompany              37\n",
       "YearsInCurrentRole          19\n",
       "YearsSinceLastPromotion     16\n",
       "YearsWithCurrManager        18\n",
       "dtype: int64"
      ]
     },
     "execution_count": 2,
     "metadata": {},
     "output_type": "execute_result"
    }
   ],
   "source": [
    "# Determine the number of unique values in each column.\n",
    "attrition_df.nunique()"
   ]
  },
  {
   "cell_type": "code",
   "execution_count": 3,
   "metadata": {
    "id": "50vMgBEnJbfM"
   },
   "outputs": [],
   "source": [
    "# Create y_df with the Attrition and Department columns\n",
    "\n",
    "y_df = attrition_df[['Attrition', 'Department']]\n"
   ]
  },
  {
   "cell_type": "code",
   "execution_count": 4,
   "metadata": {
    "colab": {
     "base_uri": "https://localhost:8080/"
    },
    "id": "Virka0zLGc3R",
    "outputId": "dd5aee3a-9458-4ba6-e857-1b234de40915"
   },
   "outputs": [
    {
     "name": "stdout",
     "output_type": "stream",
     "text": [
      "Education                  int64\n",
      "Age                        int64\n",
      "DistanceFromHome           int64\n",
      "JobSatisfaction            int64\n",
      "PerformanceRating          int64\n",
      "StockOptionLevel           int64\n",
      "WorkLifeBalance            int64\n",
      "YearsAtCompany             int64\n",
      "YearsSinceLastPromotion    int64\n",
      "NumCompaniesWorked         int64\n",
      "dtype: object\n"
     ]
    }
   ],
   "source": [
    "# Create a list of at least 10 column names to use as X data\n",
    "\n",
    "X_columns = ['Education', 'Age', 'DistanceFromHome', 'JobSatisfaction','PerformanceRating', 'StockOptionLevel', 'WorkLifeBalance', 'YearsAtCompany', 'YearsSinceLastPromotion', 'NumCompaniesWorked']\n",
    "                 \n",
    "# Create X_df using your selected columns\n",
    "X_df = attrition_df[X_columns]\n",
    "\n",
    "# Show the data types for X_df\n",
    "print(X_df.dtypes)"
   ]
  },
  {
   "cell_type": "code",
   "execution_count": 5,
   "metadata": {
    "id": "KaJfdOGUMHMR"
   },
   "outputs": [],
   "source": [
    "# Split the data into training and testing sets\n",
    "from sklearn.model_selection import train_test_split\n",
    "X = X_df\n",
    "y = y_df\n",
    "\n",
    "X_train, X_test, y_train, y_test = train_test_split(X, y, random_state=1)\n"
   ]
  },
  {
   "cell_type": "code",
   "execution_count": 6,
   "metadata": {},
   "outputs": [],
   "source": [
    "from sklearn.preprocessing import OneHotEncoder, LabelEncoder"
   ]
  },
  {
   "cell_type": "code",
   "execution_count": 7,
   "metadata": {
    "colab": {
     "base_uri": "https://localhost:8080/"
    },
    "id": "NYubUJqiLCSp",
    "outputId": "53f31721-571c-4c94-d13e-25a715749593"
   },
   "outputs": [],
   "source": [
    "# Convert your X data to numeric data types however you see fit\n",
    "# Add new code cells as necessary FIX - epert learning\n",
    "\n",
    "ohe = OneHotEncoder(handle_unknown='ignore', sparse_output=False, dtype='int')\n",
    "X_train_encoded = pd.DataFrame(data=ohe.fit_transform(X_train), columns=ohe.get_feature_names_out())\n",
    "X_test_encoded = pd.DataFrame(data=ohe.transform(X_test), columns=ohe.get_feature_names_out())\n"
   ]
  },
  {
   "cell_type": "code",
   "execution_count": 8,
   "metadata": {
    "id": "EWA-aIA5Gc3T"
   },
   "outputs": [],
   "source": [
    "# Create a StandardScaler\n",
    "\n",
    "# Fit the StandardScaler to the training data\n",
    "scaler = StandardScaler().fit(X_train_encoded)\n",
    "\n",
    "# Scale the training and testing data\n",
    "\n",
    "X_train_scaled = scaler.transform(X_train_encoded)\n",
    "X_test_scaled = scaler.transform(X_test_encoded)\n"
   ]
  },
  {
   "cell_type": "code",
   "execution_count": 9,
   "metadata": {
    "colab": {
     "base_uri": "https://localhost:8080/"
    },
    "id": "-z0Mky8vQSz4",
    "outputId": "debefc85-c20b-48f5-f4d9-91eadd65d36a"
   },
   "outputs": [
    {
     "name": "stdout",
     "output_type": "stream",
     "text": [
      "[[0. 1. 0.]\n",
      " [0. 1. 0.]\n",
      " [0. 0. 1.]\n",
      " ...\n",
      " [1. 0. 0.]\n",
      " [0. 0. 1.]\n",
      " [0. 0. 1.]]\n"
     ]
    }
   ],
   "source": [
    "# Create a OneHotEncoder for the Department column\n",
    "\n",
    "department_encoder = OneHotEncoder(sparse_output=False)\n",
    "\n",
    "# Fit the encoder to the training data\n",
    "department_encoder.fit(y_train[['Department']])\n",
    "\n",
    "# Create two new variables by applying the encoder\n",
    "# to the training and testing data\n",
    "\n",
    "department_train_encoded = department_encoder.transform(y_train[['Department']])\n",
    "department_test_encoded = department_encoder.transform(y_test[['Department']])\n",
    "\n",
    "print(department_train_encoded)\n",
    "\n",
    "\n"
   ]
  },
  {
   "cell_type": "code",
   "execution_count": 10,
   "metadata": {
    "colab": {
     "base_uri": "https://localhost:8080/"
    },
    "id": "-G4DSpvFRrk4",
    "outputId": "9842e948-8a55-4b80-8fac-f96714e85589"
   },
   "outputs": [
    {
     "name": "stdout",
     "output_type": "stream",
     "text": [
      "[[1. 0.]\n",
      " [1. 0.]\n",
      " [0. 1.]\n",
      " ...\n",
      " [1. 0.]\n",
      " [1. 0.]\n",
      " [1. 0.]]\n"
     ]
    }
   ],
   "source": [
    "# Create a OneHotEncoder for the Attrition column\n",
    "attrition_encoder = OneHotEncoder(sparse_output=False)\n",
    "\n",
    "# Fit the encoder to the training data\n",
    "attrition_encoder.fit(y_train[['Attrition']])\n",
    "\n",
    "# Create two new variables by applying the encoder\n",
    "# to the training and testing data\n",
    "attrition_train_encoded = attrition_encoder.transform(y_train[['Attrition']])\n",
    "attrition_test_encoded = attrition_encoder.transform(y_test[['Attrition']])\n",
    "\n",
    "print(attrition_train_encoded)"
   ]
  },
  {
   "cell_type": "markdown",
   "metadata": {
    "id": "ykNmu_WWGc3T"
   },
   "source": [
    "## Create, Compile, and Train the Model"
   ]
  },
  {
   "cell_type": "code",
   "execution_count": 11,
   "metadata": {},
   "outputs": [],
   "source": [
    "from tensorflow.keras.layers import Input, Dense"
   ]
  },
  {
   "cell_type": "code",
   "execution_count": 12,
   "metadata": {
    "id": "WUptZqmSGc3T"
   },
   "outputs": [],
   "source": [
    "# Find the number of columns in the X training data\n",
    "num_features = X_train_scaled.shape[1]\n",
    "\n",
    "# Create the input layer\n",
    "input_layer = Input(shape=(num_features,))\n",
    "\n",
    "# Create at least two shared layers\n",
    "shared_layer1 = Dense(units=64, activation='relu')(input_layer)  \n",
    "shared_layer2 = Dense(units=32, activation='relu')(shared_layer1)\n",
    "\n",
    "\n"
   ]
  },
  {
   "cell_type": "code",
   "execution_count": 13,
   "metadata": {
    "id": "JukjTm2yTEqd"
   },
   "outputs": [],
   "source": [
    "# Create a branch for Department\n",
    "# with a hidden layer and an output layer\n",
    "\n",
    "# Create the hidden layer\n",
    "department_hidden = Dense(units=32, activation='relu')(shared_layer2)\n",
    "\n",
    "\n",
    "# Create the output layer\n",
    "department_output = Dense(units=3, activation='softmax', name='department_output')(department_hidden)\n"
   ]
  },
  {
   "cell_type": "code",
   "execution_count": 14,
   "metadata": {
    "id": "9OqhUiOJUBkR"
   },
   "outputs": [],
   "source": [
    "# Create a branch for Attrition\n",
    "# with a hidden layer and an output layer\n",
    "\n",
    "# Create the hidden layer\n",
    "attrition_hidden = Dense(units=32, activation='relu')(shared_layer2) \n",
    "\n",
    "# Create the output layer\n",
    "attrition_output = Dense(units=2, activation='softmax', name='attrition_output')(attrition_hidden) "
   ]
  },
  {
   "cell_type": "code",
   "execution_count": 15,
   "metadata": {
    "colab": {
     "base_uri": "https://localhost:8080/"
    },
    "id": "twmuejdxGc3T",
    "outputId": "25096308-b68b-42e4-e4ea-ae82e97c435a"
   },
   "outputs": [
    {
     "data": {
      "text/html": [
       "<pre style=\"white-space:pre;overflow-x:auto;line-height:normal;font-family:Menlo,'DejaVu Sans Mono',consolas,'Courier New',monospace\"><span style=\"font-weight: bold\">Model: \"functional\"</span>\n",
       "</pre>\n"
      ],
      "text/plain": [
       "\u001b[1mModel: \"functional\"\u001b[0m\n"
      ]
     },
     "metadata": {},
     "output_type": "display_data"
    },
    {
     "data": {
      "text/html": [
       "<pre style=\"white-space:pre;overflow-x:auto;line-height:normal;font-family:Menlo,'DejaVu Sans Mono',consolas,'Courier New',monospace\">┏━━━━━━━━━━━━━━━━━━━━━━━━━━━━━━━┳━━━━━━━━━━━━━━━━━━━━━━━━━━━┳━━━━━━━━━━━━━━━━━┳━━━━━━━━━━━━━━━━━━━━━━━━━━━━┓\n",
       "┃<span style=\"font-weight: bold\"> Layer (type)                  </span>┃<span style=\"font-weight: bold\"> Output Shape              </span>┃<span style=\"font-weight: bold\">         Param # </span>┃<span style=\"font-weight: bold\"> Connected to               </span>┃\n",
       "┡━━━━━━━━━━━━━━━━━━━━━━━━━━━━━━━╇━━━━━━━━━━━━━━━━━━━━━━━━━━━╇━━━━━━━━━━━━━━━━━╇━━━━━━━━━━━━━━━━━━━━━━━━━━━━┩\n",
       "│ input_layer (<span style=\"color: #0087ff; text-decoration-color: #0087ff\">InputLayer</span>)      │ (<span style=\"color: #00d7ff; text-decoration-color: #00d7ff\">None</span>, <span style=\"color: #00af00; text-decoration-color: #00af00\">149</span>)               │               <span style=\"color: #00af00; text-decoration-color: #00af00\">0</span> │ -                          │\n",
       "├───────────────────────────────┼───────────────────────────┼─────────────────┼────────────────────────────┤\n",
       "│ dense (<span style=\"color: #0087ff; text-decoration-color: #0087ff\">Dense</span>)                 │ (<span style=\"color: #00d7ff; text-decoration-color: #00d7ff\">None</span>, <span style=\"color: #00af00; text-decoration-color: #00af00\">64</span>)                │           <span style=\"color: #00af00; text-decoration-color: #00af00\">9,600</span> │ input_layer[<span style=\"color: #00af00; text-decoration-color: #00af00\">0</span>][<span style=\"color: #00af00; text-decoration-color: #00af00\">0</span>]          │\n",
       "├───────────────────────────────┼───────────────────────────┼─────────────────┼────────────────────────────┤\n",
       "│ dense_1 (<span style=\"color: #0087ff; text-decoration-color: #0087ff\">Dense</span>)               │ (<span style=\"color: #00d7ff; text-decoration-color: #00d7ff\">None</span>, <span style=\"color: #00af00; text-decoration-color: #00af00\">32</span>)                │           <span style=\"color: #00af00; text-decoration-color: #00af00\">2,080</span> │ dense[<span style=\"color: #00af00; text-decoration-color: #00af00\">0</span>][<span style=\"color: #00af00; text-decoration-color: #00af00\">0</span>]                │\n",
       "├───────────────────────────────┼───────────────────────────┼─────────────────┼────────────────────────────┤\n",
       "│ dense_2 (<span style=\"color: #0087ff; text-decoration-color: #0087ff\">Dense</span>)               │ (<span style=\"color: #00d7ff; text-decoration-color: #00d7ff\">None</span>, <span style=\"color: #00af00; text-decoration-color: #00af00\">32</span>)                │           <span style=\"color: #00af00; text-decoration-color: #00af00\">1,056</span> │ dense_1[<span style=\"color: #00af00; text-decoration-color: #00af00\">0</span>][<span style=\"color: #00af00; text-decoration-color: #00af00\">0</span>]              │\n",
       "├───────────────────────────────┼───────────────────────────┼─────────────────┼────────────────────────────┤\n",
       "│ dense_3 (<span style=\"color: #0087ff; text-decoration-color: #0087ff\">Dense</span>)               │ (<span style=\"color: #00d7ff; text-decoration-color: #00d7ff\">None</span>, <span style=\"color: #00af00; text-decoration-color: #00af00\">32</span>)                │           <span style=\"color: #00af00; text-decoration-color: #00af00\">1,056</span> │ dense_1[<span style=\"color: #00af00; text-decoration-color: #00af00\">0</span>][<span style=\"color: #00af00; text-decoration-color: #00af00\">0</span>]              │\n",
       "├───────────────────────────────┼───────────────────────────┼─────────────────┼────────────────────────────┤\n",
       "│ department_output (<span style=\"color: #0087ff; text-decoration-color: #0087ff\">Dense</span>)     │ (<span style=\"color: #00d7ff; text-decoration-color: #00d7ff\">None</span>, <span style=\"color: #00af00; text-decoration-color: #00af00\">3</span>)                 │              <span style=\"color: #00af00; text-decoration-color: #00af00\">99</span> │ dense_2[<span style=\"color: #00af00; text-decoration-color: #00af00\">0</span>][<span style=\"color: #00af00; text-decoration-color: #00af00\">0</span>]              │\n",
       "├───────────────────────────────┼───────────────────────────┼─────────────────┼────────────────────────────┤\n",
       "│ attrition_output (<span style=\"color: #0087ff; text-decoration-color: #0087ff\">Dense</span>)      │ (<span style=\"color: #00d7ff; text-decoration-color: #00d7ff\">None</span>, <span style=\"color: #00af00; text-decoration-color: #00af00\">2</span>)                 │              <span style=\"color: #00af00; text-decoration-color: #00af00\">66</span> │ dense_3[<span style=\"color: #00af00; text-decoration-color: #00af00\">0</span>][<span style=\"color: #00af00; text-decoration-color: #00af00\">0</span>]              │\n",
       "└───────────────────────────────┴───────────────────────────┴─────────────────┴────────────────────────────┘\n",
       "</pre>\n"
      ],
      "text/plain": [
       "┏━━━━━━━━━━━━━━━━━━━━━━━━━━━━━━━┳━━━━━━━━━━━━━━━━━━━━━━━━━━━┳━━━━━━━━━━━━━━━━━┳━━━━━━━━━━━━━━━━━━━━━━━━━━━━┓\n",
       "┃\u001b[1m \u001b[0m\u001b[1mLayer (type)                 \u001b[0m\u001b[1m \u001b[0m┃\u001b[1m \u001b[0m\u001b[1mOutput Shape             \u001b[0m\u001b[1m \u001b[0m┃\u001b[1m \u001b[0m\u001b[1m        Param #\u001b[0m\u001b[1m \u001b[0m┃\u001b[1m \u001b[0m\u001b[1mConnected to              \u001b[0m\u001b[1m \u001b[0m┃\n",
       "┡━━━━━━━━━━━━━━━━━━━━━━━━━━━━━━━╇━━━━━━━━━━━━━━━━━━━━━━━━━━━╇━━━━━━━━━━━━━━━━━╇━━━━━━━━━━━━━━━━━━━━━━━━━━━━┩\n",
       "│ input_layer (\u001b[38;5;33mInputLayer\u001b[0m)      │ (\u001b[38;5;45mNone\u001b[0m, \u001b[38;5;34m149\u001b[0m)               │               \u001b[38;5;34m0\u001b[0m │ -                          │\n",
       "├───────────────────────────────┼───────────────────────────┼─────────────────┼────────────────────────────┤\n",
       "│ dense (\u001b[38;5;33mDense\u001b[0m)                 │ (\u001b[38;5;45mNone\u001b[0m, \u001b[38;5;34m64\u001b[0m)                │           \u001b[38;5;34m9,600\u001b[0m │ input_layer[\u001b[38;5;34m0\u001b[0m][\u001b[38;5;34m0\u001b[0m]          │\n",
       "├───────────────────────────────┼───────────────────────────┼─────────────────┼────────────────────────────┤\n",
       "│ dense_1 (\u001b[38;5;33mDense\u001b[0m)               │ (\u001b[38;5;45mNone\u001b[0m, \u001b[38;5;34m32\u001b[0m)                │           \u001b[38;5;34m2,080\u001b[0m │ dense[\u001b[38;5;34m0\u001b[0m][\u001b[38;5;34m0\u001b[0m]                │\n",
       "├───────────────────────────────┼───────────────────────────┼─────────────────┼────────────────────────────┤\n",
       "│ dense_2 (\u001b[38;5;33mDense\u001b[0m)               │ (\u001b[38;5;45mNone\u001b[0m, \u001b[38;5;34m32\u001b[0m)                │           \u001b[38;5;34m1,056\u001b[0m │ dense_1[\u001b[38;5;34m0\u001b[0m][\u001b[38;5;34m0\u001b[0m]              │\n",
       "├───────────────────────────────┼───────────────────────────┼─────────────────┼────────────────────────────┤\n",
       "│ dense_3 (\u001b[38;5;33mDense\u001b[0m)               │ (\u001b[38;5;45mNone\u001b[0m, \u001b[38;5;34m32\u001b[0m)                │           \u001b[38;5;34m1,056\u001b[0m │ dense_1[\u001b[38;5;34m0\u001b[0m][\u001b[38;5;34m0\u001b[0m]              │\n",
       "├───────────────────────────────┼───────────────────────────┼─────────────────┼────────────────────────────┤\n",
       "│ department_output (\u001b[38;5;33mDense\u001b[0m)     │ (\u001b[38;5;45mNone\u001b[0m, \u001b[38;5;34m3\u001b[0m)                 │              \u001b[38;5;34m99\u001b[0m │ dense_2[\u001b[38;5;34m0\u001b[0m][\u001b[38;5;34m0\u001b[0m]              │\n",
       "├───────────────────────────────┼───────────────────────────┼─────────────────┼────────────────────────────┤\n",
       "│ attrition_output (\u001b[38;5;33mDense\u001b[0m)      │ (\u001b[38;5;45mNone\u001b[0m, \u001b[38;5;34m2\u001b[0m)                 │              \u001b[38;5;34m66\u001b[0m │ dense_3[\u001b[38;5;34m0\u001b[0m][\u001b[38;5;34m0\u001b[0m]              │\n",
       "└───────────────────────────────┴───────────────────────────┴─────────────────┴────────────────────────────┘\n"
      ]
     },
     "metadata": {},
     "output_type": "display_data"
    },
    {
     "data": {
      "text/html": [
       "<pre style=\"white-space:pre;overflow-x:auto;line-height:normal;font-family:Menlo,'DejaVu Sans Mono',consolas,'Courier New',monospace\"><span style=\"font-weight: bold\"> Total params: </span><span style=\"color: #00af00; text-decoration-color: #00af00\">13,957</span> (54.52 KB)\n",
       "</pre>\n"
      ],
      "text/plain": [
       "\u001b[1m Total params: \u001b[0m\u001b[38;5;34m13,957\u001b[0m (54.52 KB)\n"
      ]
     },
     "metadata": {},
     "output_type": "display_data"
    },
    {
     "data": {
      "text/html": [
       "<pre style=\"white-space:pre;overflow-x:auto;line-height:normal;font-family:Menlo,'DejaVu Sans Mono',consolas,'Courier New',monospace\"><span style=\"font-weight: bold\"> Trainable params: </span><span style=\"color: #00af00; text-decoration-color: #00af00\">13,957</span> (54.52 KB)\n",
       "</pre>\n"
      ],
      "text/plain": [
       "\u001b[1m Trainable params: \u001b[0m\u001b[38;5;34m13,957\u001b[0m (54.52 KB)\n"
      ]
     },
     "metadata": {},
     "output_type": "display_data"
    },
    {
     "data": {
      "text/html": [
       "<pre style=\"white-space:pre;overflow-x:auto;line-height:normal;font-family:Menlo,'DejaVu Sans Mono',consolas,'Courier New',monospace\"><span style=\"font-weight: bold\"> Non-trainable params: </span><span style=\"color: #00af00; text-decoration-color: #00af00\">0</span> (0.00 B)\n",
       "</pre>\n"
      ],
      "text/plain": [
       "\u001b[1m Non-trainable params: \u001b[0m\u001b[38;5;34m0\u001b[0m (0.00 B)\n"
      ]
     },
     "metadata": {},
     "output_type": "display_data"
    }
   ],
   "source": [
    "# Create the model\n",
    "model = Model(inputs=input_layer, outputs=[department_output, attrition_output]) \n",
    "\n",
    "# Compile the model\n",
    "\n",
    "model.compile(optimizer='adam', \n",
    "              loss={\n",
    "                  'department_output': 'categorical_crossentropy', \n",
    "                  'attrition_output': 'categorical_crossentropy'\n",
    "              },\n",
    "              metrics={\n",
    "                  'department_output': 'accuracy',\n",
    "                  'attrition_output': 'accuracy'\n",
    "              })\n",
    "\n",
    "# Summarize the model\n",
    "model.summary()"
   ]
  },
  {
   "cell_type": "code",
   "execution_count": 16,
   "metadata": {
    "colab": {
     "base_uri": "https://localhost:8080/"
    },
    "id": "c8oGy0dpGc3U",
    "outputId": "cc667d43-28cf-42d4-d719-c2bc02888d30"
   },
   "outputs": [
    {
     "name": "stdout",
     "output_type": "stream",
     "text": [
      "Epoch 1/100\n",
      "\u001b[1m28/28\u001b[0m \u001b[32m━━━━━━━━━━━━━━━━━━━━\u001b[0m\u001b[37m\u001b[0m \u001b[1m2s\u001b[0m 15ms/step - attrition_output_accuracy: 0.3269 - attrition_output_loss: 0.9505 - department_output_accuracy: 0.1125 - department_output_loss: 1.4273 - loss: 2.3784 - val_attrition_output_accuracy: 0.8281 - val_attrition_output_loss: 0.5292 - val_department_output_accuracy: 0.5837 - val_department_output_loss: 0.9877 - val_loss: 1.5161\n",
      "Epoch 2/100\n",
      "\u001b[1m28/28\u001b[0m \u001b[32m━━━━━━━━━━━━━━━━━━━━\u001b[0m\u001b[37m\u001b[0m \u001b[1m0s\u001b[0m 4ms/step - attrition_output_accuracy: 0.8357 - attrition_output_loss: 0.4807 - department_output_accuracy: 0.6397 - department_output_loss: 0.8778 - loss: 1.3588 - val_attrition_output_accuracy: 0.8281 - val_attrition_output_loss: 0.5090 - val_department_output_accuracy: 0.6335 - val_department_output_loss: 0.8401 - val_loss: 1.3495\n",
      "Epoch 3/100\n",
      "\u001b[1m28/28\u001b[0m \u001b[32m━━━━━━━━━━━━━━━━━━━━\u001b[0m\u001b[37m\u001b[0m \u001b[1m0s\u001b[0m 4ms/step - attrition_output_accuracy: 0.8470 - attrition_output_loss: 0.4262 - department_output_accuracy: 0.6675 - department_output_loss: 0.7531 - loss: 1.1795 - val_attrition_output_accuracy: 0.8281 - val_attrition_output_loss: 0.4980 - val_department_output_accuracy: 0.6290 - val_department_output_loss: 0.8352 - val_loss: 1.3336\n",
      "Epoch 4/100\n",
      "\u001b[1m28/28\u001b[0m \u001b[32m━━━━━━━━━━━━━━━━━━━━\u001b[0m\u001b[37m\u001b[0m \u001b[1m0s\u001b[0m 4ms/step - attrition_output_accuracy: 0.8419 - attrition_output_loss: 0.3934 - department_output_accuracy: 0.6927 - department_output_loss: 0.6892 - loss: 1.0828 - val_attrition_output_accuracy: 0.8281 - val_attrition_output_loss: 0.4962 - val_department_output_accuracy: 0.6380 - val_department_output_loss: 0.8452 - val_loss: 1.3417\n",
      "Epoch 5/100\n",
      "\u001b[1m28/28\u001b[0m \u001b[32m━━━━━━━━━━━━━━━━━━━━\u001b[0m\u001b[37m\u001b[0m \u001b[1m0s\u001b[0m 5ms/step - attrition_output_accuracy: 0.8522 - attrition_output_loss: 0.3559 - department_output_accuracy: 0.7021 - department_output_loss: 0.6583 - loss: 1.0141 - val_attrition_output_accuracy: 0.8281 - val_attrition_output_loss: 0.4908 - val_department_output_accuracy: 0.6244 - val_department_output_loss: 0.8765 - val_loss: 1.3674\n",
      "Epoch 6/100\n",
      "\u001b[1m28/28\u001b[0m \u001b[32m━━━━━━━━━━━━━━━━━━━━\u001b[0m\u001b[37m\u001b[0m \u001b[1m0s\u001b[0m 7ms/step - attrition_output_accuracy: 0.8337 - attrition_output_loss: 0.3588 - department_output_accuracy: 0.7149 - department_output_loss: 0.6129 - loss: 0.9717 - val_attrition_output_accuracy: 0.8281 - val_attrition_output_loss: 0.4959 - val_department_output_accuracy: 0.6244 - val_department_output_loss: 0.8772 - val_loss: 1.3732\n",
      "Epoch 7/100\n",
      "\u001b[1m28/28\u001b[0m \u001b[32m━━━━━━━━━━━━━━━━━━━━\u001b[0m\u001b[37m\u001b[0m \u001b[1m0s\u001b[0m 4ms/step - attrition_output_accuracy: 0.8535 - attrition_output_loss: 0.3129 - department_output_accuracy: 0.7710 - department_output_loss: 0.5379 - loss: 0.8505 - val_attrition_output_accuracy: 0.8281 - val_attrition_output_loss: 0.4920 - val_department_output_accuracy: 0.6109 - val_department_output_loss: 0.9108 - val_loss: 1.4023\n",
      "Epoch 8/100\n",
      "\u001b[1m28/28\u001b[0m \u001b[32m━━━━━━━━━━━━━━━━━━━━\u001b[0m\u001b[37m\u001b[0m \u001b[1m0s\u001b[0m 4ms/step - attrition_output_accuracy: 0.8502 - attrition_output_loss: 0.2985 - department_output_accuracy: 0.7999 - department_output_loss: 0.4952 - loss: 0.7936 - val_attrition_output_accuracy: 0.8235 - val_attrition_output_loss: 0.5090 - val_department_output_accuracy: 0.6109 - val_department_output_loss: 0.9454 - val_loss: 1.4536\n",
      "Epoch 9/100\n",
      "\u001b[1m28/28\u001b[0m \u001b[32m━━━━━━━━━━━━━━━━━━━━\u001b[0m\u001b[37m\u001b[0m \u001b[1m0s\u001b[0m 4ms/step - attrition_output_accuracy: 0.8601 - attrition_output_loss: 0.2723 - department_output_accuracy: 0.8525 - department_output_loss: 0.4182 - loss: 0.6902 - val_attrition_output_accuracy: 0.8235 - val_attrition_output_loss: 0.5092 - val_department_output_accuracy: 0.5882 - val_department_output_loss: 0.9991 - val_loss: 1.5072\n",
      "Epoch 10/100\n",
      "\u001b[1m28/28\u001b[0m \u001b[32m━━━━━━━━━━━━━━━━━━━━\u001b[0m\u001b[37m\u001b[0m \u001b[1m0s\u001b[0m 3ms/step - attrition_output_accuracy: 0.9080 - attrition_output_loss: 0.2350 - department_output_accuracy: 0.8714 - department_output_loss: 0.3625 - loss: 0.5974 - val_attrition_output_accuracy: 0.8190 - val_attrition_output_loss: 0.5264 - val_department_output_accuracy: 0.5882 - val_department_output_loss: 1.0665 - val_loss: 1.5912\n",
      "Epoch 11/100\n",
      "\u001b[1m28/28\u001b[0m \u001b[32m━━━━━━━━━━━━━━━━━━━━\u001b[0m\u001b[37m\u001b[0m \u001b[1m0s\u001b[0m 4ms/step - attrition_output_accuracy: 0.9150 - attrition_output_loss: 0.2116 - department_output_accuracy: 0.8919 - department_output_loss: 0.3091 - loss: 0.5208 - val_attrition_output_accuracy: 0.8100 - val_attrition_output_loss: 0.5463 - val_department_output_accuracy: 0.5656 - val_department_output_loss: 1.1197 - val_loss: 1.6634\n",
      "Epoch 12/100\n",
      "\u001b[1m28/28\u001b[0m \u001b[32m━━━━━━━━━━━━━━━━━━━━\u001b[0m\u001b[37m\u001b[0m \u001b[1m0s\u001b[0m 5ms/step - attrition_output_accuracy: 0.9410 - attrition_output_loss: 0.1599 - department_output_accuracy: 0.9372 - department_output_loss: 0.2466 - loss: 0.4064 - val_attrition_output_accuracy: 0.7873 - val_attrition_output_loss: 0.5677 - val_department_output_accuracy: 0.5430 - val_department_output_loss: 1.1984 - val_loss: 1.7629\n",
      "Epoch 13/100\n",
      "\u001b[1m28/28\u001b[0m \u001b[32m━━━━━━━━━━━━━━━━━━━━\u001b[0m\u001b[37m\u001b[0m \u001b[1m0s\u001b[0m 6ms/step - attrition_output_accuracy: 0.9576 - attrition_output_loss: 0.1386 - department_output_accuracy: 0.9551 - department_output_loss: 0.2046 - loss: 0.3433 - val_attrition_output_accuracy: 0.7828 - val_attrition_output_loss: 0.6062 - val_department_output_accuracy: 0.5837 - val_department_output_loss: 1.3194 - val_loss: 1.9212\n",
      "Epoch 14/100\n",
      "\u001b[1m28/28\u001b[0m \u001b[32m━━━━━━━━━━━━━━━━━━━━\u001b[0m\u001b[37m\u001b[0m \u001b[1m0s\u001b[0m 4ms/step - attrition_output_accuracy: 0.9663 - attrition_output_loss: 0.1228 - department_output_accuracy: 0.9628 - department_output_loss: 0.1762 - loss: 0.2991 - val_attrition_output_accuracy: 0.7873 - val_attrition_output_loss: 0.6562 - val_department_output_accuracy: 0.5701 - val_department_output_loss: 1.4104 - val_loss: 2.0616\n",
      "Epoch 15/100\n",
      "\u001b[1m28/28\u001b[0m \u001b[32m━━━━━━━━━━━━━━━━━━━━\u001b[0m\u001b[37m\u001b[0m \u001b[1m0s\u001b[0m 4ms/step - attrition_output_accuracy: 0.9769 - attrition_output_loss: 0.0859 - department_output_accuracy: 0.9821 - department_output_loss: 0.1317 - loss: 0.2175 - val_attrition_output_accuracy: 0.7692 - val_attrition_output_loss: 0.6897 - val_department_output_accuracy: 0.5747 - val_department_output_loss: 1.5216 - val_loss: 2.2054\n",
      "Epoch 16/100\n",
      "\u001b[1m28/28\u001b[0m \u001b[32m━━━━━━━━━━━━━━━━━━━━\u001b[0m\u001b[37m\u001b[0m \u001b[1m0s\u001b[0m 5ms/step - attrition_output_accuracy: 0.9867 - attrition_output_loss: 0.0807 - department_output_accuracy: 0.9813 - department_output_loss: 0.1095 - loss: 0.1903 - val_attrition_output_accuracy: 0.7783 - val_attrition_output_loss: 0.7391 - val_department_output_accuracy: 0.5882 - val_department_output_loss: 1.6344 - val_loss: 2.3670\n",
      "Epoch 17/100\n",
      "\u001b[1m28/28\u001b[0m \u001b[32m━━━━━━━━━━━━━━━━━━━━\u001b[0m\u001b[37m\u001b[0m \u001b[1m0s\u001b[0m 5ms/step - attrition_output_accuracy: 0.9932 - attrition_output_loss: 0.0560 - department_output_accuracy: 0.9849 - department_output_loss: 0.0893 - loss: 0.1452 - val_attrition_output_accuracy: 0.7692 - val_attrition_output_loss: 0.7950 - val_department_output_accuracy: 0.5656 - val_department_output_loss: 1.7288 - val_loss: 2.5173\n",
      "Epoch 18/100\n",
      "\u001b[1m28/28\u001b[0m \u001b[32m━━━━━━━━━━━━━━━━━━━━\u001b[0m\u001b[37m\u001b[0m \u001b[1m0s\u001b[0m 5ms/step - attrition_output_accuracy: 0.9915 - attrition_output_loss: 0.0435 - department_output_accuracy: 0.9922 - department_output_loss: 0.0697 - loss: 0.1132 - val_attrition_output_accuracy: 0.7647 - val_attrition_output_loss: 0.8330 - val_department_output_accuracy: 0.5566 - val_department_output_loss: 1.8163 - val_loss: 2.6424\n",
      "Epoch 19/100\n",
      "\u001b[1m28/28\u001b[0m \u001b[32m━━━━━━━━━━━━━━━━━━━━\u001b[0m\u001b[37m\u001b[0m \u001b[1m0s\u001b[0m 5ms/step - attrition_output_accuracy: 0.9994 - attrition_output_loss: 0.0312 - department_output_accuracy: 0.9927 - department_output_loss: 0.0583 - loss: 0.0895 - val_attrition_output_accuracy: 0.7738 - val_attrition_output_loss: 0.8916 - val_department_output_accuracy: 0.5837 - val_department_output_loss: 1.9381 - val_loss: 2.8221\n",
      "Epoch 20/100\n",
      "\u001b[1m28/28\u001b[0m \u001b[32m━━━━━━━━━━━━━━━━━━━━\u001b[0m\u001b[37m\u001b[0m \u001b[1m0s\u001b[0m 4ms/step - attrition_output_accuracy: 0.9958 - attrition_output_loss: 0.0264 - department_output_accuracy: 0.9985 - department_output_loss: 0.0501 - loss: 0.0764 - val_attrition_output_accuracy: 0.7738 - val_attrition_output_loss: 0.9579 - val_department_output_accuracy: 0.6018 - val_department_output_loss: 2.0359 - val_loss: 2.9866\n",
      "Epoch 21/100\n",
      "\u001b[1m28/28\u001b[0m \u001b[32m━━━━━━━━━━━━━━━━━━━━\u001b[0m\u001b[37m\u001b[0m \u001b[1m0s\u001b[0m 4ms/step - attrition_output_accuracy: 1.0000 - attrition_output_loss: 0.0205 - department_output_accuracy: 0.9957 - department_output_loss: 0.0461 - loss: 0.0666 - val_attrition_output_accuracy: 0.7647 - val_attrition_output_loss: 0.9875 - val_department_output_accuracy: 0.5701 - val_department_output_loss: 2.0828 - val_loss: 3.0630\n",
      "Epoch 22/100\n",
      "\u001b[1m28/28\u001b[0m \u001b[32m━━━━━━━━━━━━━━━━━━━━\u001b[0m\u001b[37m\u001b[0m \u001b[1m0s\u001b[0m 4ms/step - attrition_output_accuracy: 1.0000 - attrition_output_loss: 0.0165 - department_output_accuracy: 0.9986 - department_output_loss: 0.0338 - loss: 0.0503 - val_attrition_output_accuracy: 0.7602 - val_attrition_output_loss: 1.0361 - val_department_output_accuracy: 0.5701 - val_department_output_loss: 2.1780 - val_loss: 3.2063\n",
      "Epoch 23/100\n",
      "\u001b[1m28/28\u001b[0m \u001b[32m━━━━━━━━━━━━━━━━━━━━\u001b[0m\u001b[37m\u001b[0m \u001b[1m0s\u001b[0m 4ms/step - attrition_output_accuracy: 1.0000 - attrition_output_loss: 0.0110 - department_output_accuracy: 0.9994 - department_output_loss: 0.0224 - loss: 0.0334 - val_attrition_output_accuracy: 0.7602 - val_attrition_output_loss: 1.0603 - val_department_output_accuracy: 0.5611 - val_department_output_loss: 2.2311 - val_loss: 3.2837\n",
      "Epoch 24/100\n",
      "\u001b[1m28/28\u001b[0m \u001b[32m━━━━━━━━━━━━━━━━━━━━\u001b[0m\u001b[37m\u001b[0m \u001b[1m0s\u001b[0m 5ms/step - attrition_output_accuracy: 1.0000 - attrition_output_loss: 0.0100 - department_output_accuracy: 0.9988 - department_output_loss: 0.0230 - loss: 0.0329 - val_attrition_output_accuracy: 0.7602 - val_attrition_output_loss: 1.1181 - val_department_output_accuracy: 0.5882 - val_department_output_loss: 2.3429 - val_loss: 3.4527\n",
      "Epoch 25/100\n",
      "\u001b[1m28/28\u001b[0m \u001b[32m━━━━━━━━━━━━━━━━━━━━\u001b[0m\u001b[37m\u001b[0m \u001b[1m0s\u001b[0m 6ms/step - attrition_output_accuracy: 1.0000 - attrition_output_loss: 0.0081 - department_output_accuracy: 0.9959 - department_output_loss: 0.0231 - loss: 0.0312 - val_attrition_output_accuracy: 0.7647 - val_attrition_output_loss: 1.1571 - val_department_output_accuracy: 0.5747 - val_department_output_loss: 2.4167 - val_loss: 3.5658\n",
      "Epoch 26/100\n",
      "\u001b[1m28/28\u001b[0m \u001b[32m━━━━━━━━━━━━━━━━━━━━\u001b[0m\u001b[37m\u001b[0m \u001b[1m0s\u001b[0m 6ms/step - attrition_output_accuracy: 1.0000 - attrition_output_loss: 0.0061 - department_output_accuracy: 0.9998 - department_output_loss: 0.0143 - loss: 0.0204 - val_attrition_output_accuracy: 0.7602 - val_attrition_output_loss: 1.1752 - val_department_output_accuracy: 0.5701 - val_department_output_loss: 2.4525 - val_loss: 3.6198\n",
      "Epoch 27/100\n",
      "\u001b[1m28/28\u001b[0m \u001b[32m━━━━━━━━━━━━━━━━━━━━\u001b[0m\u001b[37m\u001b[0m \u001b[1m0s\u001b[0m 5ms/step - attrition_output_accuracy: 1.0000 - attrition_output_loss: 0.0058 - department_output_accuracy: 0.9999 - department_output_loss: 0.0110 - loss: 0.0167 - val_attrition_output_accuracy: 0.7602 - val_attrition_output_loss: 1.2015 - val_department_output_accuracy: 0.5701 - val_department_output_loss: 2.5196 - val_loss: 3.7131\n",
      "Epoch 28/100\n",
      "\u001b[1m28/28\u001b[0m \u001b[32m━━━━━━━━━━━━━━━━━━━━\u001b[0m\u001b[37m\u001b[0m \u001b[1m0s\u001b[0m 4ms/step - attrition_output_accuracy: 1.0000 - attrition_output_loss: 0.0050 - department_output_accuracy: 1.0000 - department_output_loss: 0.0103 - loss: 0.0153 - val_attrition_output_accuracy: 0.7647 - val_attrition_output_loss: 1.2359 - val_department_output_accuracy: 0.5747 - val_department_output_loss: 2.5927 - val_loss: 3.8203\n",
      "Epoch 29/100\n",
      "\u001b[1m28/28\u001b[0m \u001b[32m━━━━━━━━━━━━━━━━━━━━\u001b[0m\u001b[37m\u001b[0m \u001b[1m0s\u001b[0m 5ms/step - attrition_output_accuracy: 1.0000 - attrition_output_loss: 0.0044 - department_output_accuracy: 1.0000 - department_output_loss: 0.0114 - loss: 0.0157 - val_attrition_output_accuracy: 0.7602 - val_attrition_output_loss: 1.2514 - val_department_output_accuracy: 0.5747 - val_department_output_loss: 2.6363 - val_loss: 3.8794\n",
      "Epoch 30/100\n",
      "\u001b[1m28/28\u001b[0m \u001b[32m━━━━━━━━━━━━━━━━━━━━\u001b[0m\u001b[37m\u001b[0m \u001b[1m0s\u001b[0m 3ms/step - attrition_output_accuracy: 1.0000 - attrition_output_loss: 0.0036 - department_output_accuracy: 1.0000 - department_output_loss: 0.0075 - loss: 0.0111 - val_attrition_output_accuracy: 0.7602 - val_attrition_output_loss: 1.2759 - val_department_output_accuracy: 0.5701 - val_department_output_loss: 2.6992 - val_loss: 3.9669\n",
      "Epoch 31/100\n",
      "\u001b[1m28/28\u001b[0m \u001b[32m━━━━━━━━━━━━━━━━━━━━\u001b[0m\u001b[37m\u001b[0m \u001b[1m0s\u001b[0m 4ms/step - attrition_output_accuracy: 1.0000 - attrition_output_loss: 0.0033 - department_output_accuracy: 1.0000 - department_output_loss: 0.0065 - loss: 0.0098 - val_attrition_output_accuracy: 0.7602 - val_attrition_output_loss: 1.2983 - val_department_output_accuracy: 0.5701 - val_department_output_loss: 2.7486 - val_loss: 4.0386\n",
      "Epoch 32/100\n",
      "\u001b[1m28/28\u001b[0m \u001b[32m━━━━━━━━━━━━━━━━━━━━\u001b[0m\u001b[37m\u001b[0m \u001b[1m0s\u001b[0m 4ms/step - attrition_output_accuracy: 1.0000 - attrition_output_loss: 0.0034 - department_output_accuracy: 1.0000 - department_output_loss: 0.0067 - loss: 0.0101 - val_attrition_output_accuracy: 0.7602 - val_attrition_output_loss: 1.3243 - val_department_output_accuracy: 0.5701 - val_department_output_loss: 2.8032 - val_loss: 4.1191\n",
      "Epoch 33/100\n",
      "\u001b[1m28/28\u001b[0m \u001b[32m━━━━━━━━━━━━━━━━━━━━\u001b[0m\u001b[37m\u001b[0m \u001b[1m0s\u001b[0m 4ms/step - attrition_output_accuracy: 1.0000 - attrition_output_loss: 0.0027 - department_output_accuracy: 1.0000 - department_output_loss: 0.0054 - loss: 0.0081 - val_attrition_output_accuracy: 0.7602 - val_attrition_output_loss: 1.3446 - val_department_output_accuracy: 0.5656 - val_department_output_loss: 2.8270 - val_loss: 4.1631\n",
      "Epoch 34/100\n",
      "\u001b[1m28/28\u001b[0m \u001b[32m━━━━━━━━━━━━━━━━━━━━\u001b[0m\u001b[37m\u001b[0m \u001b[1m0s\u001b[0m 4ms/step - attrition_output_accuracy: 1.0000 - attrition_output_loss: 0.0023 - department_output_accuracy: 1.0000 - department_output_loss: 0.0052 - loss: 0.0075 - val_attrition_output_accuracy: 0.7602 - val_attrition_output_loss: 1.3608 - val_department_output_accuracy: 0.5656 - val_department_output_loss: 2.8826 - val_loss: 4.2349\n",
      "Epoch 35/100\n",
      "\u001b[1m28/28\u001b[0m \u001b[32m━━━━━━━━━━━━━━━━━━━━\u001b[0m\u001b[37m\u001b[0m \u001b[1m0s\u001b[0m 5ms/step - attrition_output_accuracy: 1.0000 - attrition_output_loss: 0.0021 - department_output_accuracy: 1.0000 - department_output_loss: 0.0041 - loss: 0.0062 - val_attrition_output_accuracy: 0.7602 - val_attrition_output_loss: 1.3851 - val_department_output_accuracy: 0.5701 - val_department_output_loss: 2.9214 - val_loss: 4.2980\n",
      "Epoch 36/100\n",
      "\u001b[1m28/28\u001b[0m \u001b[32m━━━━━━━━━━━━━━━━━━━━\u001b[0m\u001b[37m\u001b[0m \u001b[1m0s\u001b[0m 3ms/step - attrition_output_accuracy: 1.0000 - attrition_output_loss: 0.0018 - department_output_accuracy: 1.0000 - department_output_loss: 0.0035 - loss: 0.0053 - val_attrition_output_accuracy: 0.7602 - val_attrition_output_loss: 1.3916 - val_department_output_accuracy: 0.5656 - val_department_output_loss: 2.9562 - val_loss: 4.3392\n",
      "Epoch 37/100\n",
      "\u001b[1m28/28\u001b[0m \u001b[32m━━━━━━━━━━━━━━━━━━━━\u001b[0m\u001b[37m\u001b[0m \u001b[1m0s\u001b[0m 4ms/step - attrition_output_accuracy: 1.0000 - attrition_output_loss: 0.0017 - department_output_accuracy: 1.0000 - department_output_loss: 0.0031 - loss: 0.0048 - val_attrition_output_accuracy: 0.7602 - val_attrition_output_loss: 1.4146 - val_department_output_accuracy: 0.5656 - val_department_output_loss: 3.0014 - val_loss: 4.4073\n",
      "Epoch 38/100\n",
      "\u001b[1m28/28\u001b[0m \u001b[32m━━━━━━━━━━━━━━━━━━━━\u001b[0m\u001b[37m\u001b[0m \u001b[1m0s\u001b[0m 6ms/step - attrition_output_accuracy: 1.0000 - attrition_output_loss: 0.0016 - department_output_accuracy: 1.0000 - department_output_loss: 0.0036 - loss: 0.0052 - val_attrition_output_accuracy: 0.7602 - val_attrition_output_loss: 1.4238 - val_department_output_accuracy: 0.5656 - val_department_output_loss: 3.0368 - val_loss: 4.4518\n",
      "Epoch 39/100\n",
      "\u001b[1m28/28\u001b[0m \u001b[32m━━━━━━━━━━━━━━━━━━━━\u001b[0m\u001b[37m\u001b[0m \u001b[1m0s\u001b[0m 4ms/step - attrition_output_accuracy: 1.0000 - attrition_output_loss: 0.0014 - department_output_accuracy: 1.0000 - department_output_loss: 0.0027 - loss: 0.0041 - val_attrition_output_accuracy: 0.7557 - val_attrition_output_loss: 1.4464 - val_department_output_accuracy: 0.5656 - val_department_output_loss: 3.0698 - val_loss: 4.5074\n",
      "Epoch 40/100\n",
      "\u001b[1m28/28\u001b[0m \u001b[32m━━━━━━━━━━━━━━━━━━━━\u001b[0m\u001b[37m\u001b[0m \u001b[1m0s\u001b[0m 4ms/step - attrition_output_accuracy: 1.0000 - attrition_output_loss: 0.0012 - department_output_accuracy: 1.0000 - department_output_loss: 0.0024 - loss: 0.0035 - val_attrition_output_accuracy: 0.7602 - val_attrition_output_loss: 1.4544 - val_department_output_accuracy: 0.5656 - val_department_output_loss: 3.0984 - val_loss: 4.5438\n",
      "Epoch 41/100\n",
      "\u001b[1m28/28\u001b[0m \u001b[32m━━━━━━━━━━━━━━━━━━━━\u001b[0m\u001b[37m\u001b[0m \u001b[1m0s\u001b[0m 4ms/step - attrition_output_accuracy: 1.0000 - attrition_output_loss: 0.0012 - department_output_accuracy: 1.0000 - department_output_loss: 0.0025 - loss: 0.0037 - val_attrition_output_accuracy: 0.7647 - val_attrition_output_loss: 1.4706 - val_department_output_accuracy: 0.5611 - val_department_output_loss: 3.1322 - val_loss: 4.5937\n",
      "Epoch 42/100\n",
      "\u001b[1m28/28\u001b[0m \u001b[32m━━━━━━━━━━━━━━━━━━━━\u001b[0m\u001b[37m\u001b[0m \u001b[1m0s\u001b[0m 4ms/step - attrition_output_accuracy: 1.0000 - attrition_output_loss: 0.0011 - department_output_accuracy: 1.0000 - department_output_loss: 0.0023 - loss: 0.0034 - val_attrition_output_accuracy: 0.7602 - val_attrition_output_loss: 1.4834 - val_department_output_accuracy: 0.5611 - val_department_output_loss: 3.1599 - val_loss: 4.6343\n",
      "Epoch 43/100\n",
      "\u001b[1m28/28\u001b[0m \u001b[32m━━━━━━━━━━━━━━━━━━━━\u001b[0m\u001b[37m\u001b[0m \u001b[1m0s\u001b[0m 3ms/step - attrition_output_accuracy: 1.0000 - attrition_output_loss: 0.0011 - department_output_accuracy: 1.0000 - department_output_loss: 0.0020 - loss: 0.0032 - val_attrition_output_accuracy: 0.7602 - val_attrition_output_loss: 1.4980 - val_department_output_accuracy: 0.5611 - val_department_output_loss: 3.1880 - val_loss: 4.6769\n",
      "Epoch 44/100\n",
      "\u001b[1m28/28\u001b[0m \u001b[32m━━━━━━━━━━━━━━━━━━━━\u001b[0m\u001b[37m\u001b[0m \u001b[1m0s\u001b[0m 4ms/step - attrition_output_accuracy: 1.0000 - attrition_output_loss: 0.0010 - department_output_accuracy: 1.0000 - department_output_loss: 0.0021 - loss: 0.0031 - val_attrition_output_accuracy: 0.7647 - val_attrition_output_loss: 1.5109 - val_department_output_accuracy: 0.5611 - val_department_output_loss: 3.2220 - val_loss: 4.7238\n",
      "Epoch 45/100\n",
      "\u001b[1m28/28\u001b[0m \u001b[32m━━━━━━━━━━━━━━━━━━━━\u001b[0m\u001b[37m\u001b[0m \u001b[1m0s\u001b[0m 4ms/step - attrition_output_accuracy: 1.0000 - attrition_output_loss: 8.1025e-04 - department_output_accuracy: 1.0000 - department_output_loss: 0.0018 - loss: 0.0026 - val_attrition_output_accuracy: 0.7602 - val_attrition_output_loss: 1.5209 - val_department_output_accuracy: 0.5611 - val_department_output_loss: 3.2437 - val_loss: 4.7555\n",
      "Epoch 46/100\n",
      "\u001b[1m28/28\u001b[0m \u001b[32m━━━━━━━━━━━━━━━━━━━━\u001b[0m\u001b[37m\u001b[0m \u001b[1m0s\u001b[0m 4ms/step - attrition_output_accuracy: 1.0000 - attrition_output_loss: 7.4331e-04 - department_output_accuracy: 1.0000 - department_output_loss: 0.0017 - loss: 0.0025 - val_attrition_output_accuracy: 0.7647 - val_attrition_output_loss: 1.5336 - val_department_output_accuracy: 0.5611 - val_department_output_loss: 3.2773 - val_loss: 4.8017\n",
      "Epoch 47/100\n",
      "\u001b[1m28/28\u001b[0m \u001b[32m━━━━━━━━━━━━━━━━━━━━\u001b[0m\u001b[37m\u001b[0m \u001b[1m0s\u001b[0m 5ms/step - attrition_output_accuracy: 1.0000 - attrition_output_loss: 7.1257e-04 - department_output_accuracy: 1.0000 - department_output_loss: 0.0014 - loss: 0.0021 - val_attrition_output_accuracy: 0.7602 - val_attrition_output_loss: 1.5450 - val_department_output_accuracy: 0.5611 - val_department_output_loss: 3.2995 - val_loss: 4.8352\n",
      "Epoch 48/100\n",
      "\u001b[1m28/28\u001b[0m \u001b[32m━━━━━━━━━━━━━━━━━━━━\u001b[0m\u001b[37m\u001b[0m \u001b[1m0s\u001b[0m 6ms/step - attrition_output_accuracy: 1.0000 - attrition_output_loss: 6.8069e-04 - department_output_accuracy: 1.0000 - department_output_loss: 0.0016 - loss: 0.0022 - val_attrition_output_accuracy: 0.7602 - val_attrition_output_loss: 1.5571 - val_department_output_accuracy: 0.5611 - val_department_output_loss: 3.3284 - val_loss: 4.8761\n",
      "Epoch 49/100\n",
      "\u001b[1m28/28\u001b[0m \u001b[32m━━━━━━━━━━━━━━━━━━━━\u001b[0m\u001b[37m\u001b[0m \u001b[1m0s\u001b[0m 4ms/step - attrition_output_accuracy: 1.0000 - attrition_output_loss: 7.0203e-04 - department_output_accuracy: 1.0000 - department_output_loss: 0.0013 - loss: 0.0020 - val_attrition_output_accuracy: 0.7602 - val_attrition_output_loss: 1.5686 - val_department_output_accuracy: 0.5611 - val_department_output_loss: 3.3462 - val_loss: 4.9055\n",
      "Epoch 50/100\n",
      "\u001b[1m28/28\u001b[0m \u001b[32m━━━━━━━━━━━━━━━━━━━━\u001b[0m\u001b[37m\u001b[0m \u001b[1m0s\u001b[0m 4ms/step - attrition_output_accuracy: 1.0000 - attrition_output_loss: 7.0049e-04 - department_output_accuracy: 1.0000 - department_output_loss: 0.0015 - loss: 0.0022 - val_attrition_output_accuracy: 0.7647 - val_attrition_output_loss: 1.5826 - val_department_output_accuracy: 0.5611 - val_department_output_loss: 3.3704 - val_loss: 4.9436\n",
      "Epoch 51/100\n",
      "\u001b[1m28/28\u001b[0m \u001b[32m━━━━━━━━━━━━━━━━━━━━\u001b[0m\u001b[37m\u001b[0m \u001b[1m0s\u001b[0m 5ms/step - attrition_output_accuracy: 1.0000 - attrition_output_loss: 6.4136e-04 - department_output_accuracy: 1.0000 - department_output_loss: 0.0013 - loss: 0.0020 - val_attrition_output_accuracy: 0.7602 - val_attrition_output_loss: 1.5878 - val_department_output_accuracy: 0.5611 - val_department_output_loss: 3.3948 - val_loss: 4.9731\n",
      "Epoch 52/100\n",
      "\u001b[1m28/28\u001b[0m \u001b[32m━━━━━━━━━━━━━━━━━━━━\u001b[0m\u001b[37m\u001b[0m \u001b[1m0s\u001b[0m 5ms/step - attrition_output_accuracy: 1.0000 - attrition_output_loss: 5.3815e-04 - department_output_accuracy: 1.0000 - department_output_loss: 0.0012 - loss: 0.0017 - val_attrition_output_accuracy: 0.7647 - val_attrition_output_loss: 1.6011 - val_department_output_accuracy: 0.5611 - val_department_output_loss: 3.4164 - val_loss: 5.0081\n",
      "Epoch 53/100\n",
      "\u001b[1m28/28\u001b[0m \u001b[32m━━━━━━━━━━━━━━━━━━━━\u001b[0m\u001b[37m\u001b[0m \u001b[1m0s\u001b[0m 4ms/step - attrition_output_accuracy: 1.0000 - attrition_output_loss: 4.8507e-04 - department_output_accuracy: 1.0000 - department_output_loss: 0.0011 - loss: 0.0016 - val_attrition_output_accuracy: 0.7647 - val_attrition_output_loss: 1.6091 - val_department_output_accuracy: 0.5611 - val_department_output_loss: 3.4401 - val_loss: 5.0397\n",
      "Epoch 54/100\n",
      "\u001b[1m28/28\u001b[0m \u001b[32m━━━━━━━━━━━━━━━━━━━━\u001b[0m\u001b[37m\u001b[0m \u001b[1m0s\u001b[0m 4ms/step - attrition_output_accuracy: 1.0000 - attrition_output_loss: 4.8315e-04 - department_output_accuracy: 1.0000 - department_output_loss: 0.0010 - loss: 0.0015 - val_attrition_output_accuracy: 0.7647 - val_attrition_output_loss: 1.6210 - val_department_output_accuracy: 0.5611 - val_department_output_loss: 3.4612 - val_loss: 5.0727\n",
      "Epoch 55/100\n",
      "\u001b[1m28/28\u001b[0m \u001b[32m━━━━━━━━━━━━━━━━━━━━\u001b[0m\u001b[37m\u001b[0m \u001b[1m0s\u001b[0m 4ms/step - attrition_output_accuracy: 1.0000 - attrition_output_loss: 4.9632e-04 - department_output_accuracy: 1.0000 - department_output_loss: 0.0010 - loss: 0.0015 - val_attrition_output_accuracy: 0.7602 - val_attrition_output_loss: 1.6277 - val_department_output_accuracy: 0.5611 - val_department_output_loss: 3.4820 - val_loss: 5.1001\n",
      "Epoch 56/100\n",
      "\u001b[1m28/28\u001b[0m \u001b[32m━━━━━━━━━━━━━━━━━━━━\u001b[0m\u001b[37m\u001b[0m \u001b[1m0s\u001b[0m 4ms/step - attrition_output_accuracy: 1.0000 - attrition_output_loss: 4.3272e-04 - department_output_accuracy: 1.0000 - department_output_loss: 9.1565e-04 - loss: 0.0013 - val_attrition_output_accuracy: 0.7647 - val_attrition_output_loss: 1.6383 - val_department_output_accuracy: 0.5566 - val_department_output_loss: 3.5064 - val_loss: 5.1350\n",
      "Epoch 57/100\n",
      "\u001b[1m28/28\u001b[0m \u001b[32m━━━━━━━━━━━━━━━━━━━━\u001b[0m\u001b[37m\u001b[0m \u001b[1m0s\u001b[0m 4ms/step - attrition_output_accuracy: 1.0000 - attrition_output_loss: 4.0683e-04 - department_output_accuracy: 1.0000 - department_output_loss: 7.3913e-04 - loss: 0.0011 - val_attrition_output_accuracy: 0.7647 - val_attrition_output_loss: 1.6485 - val_department_output_accuracy: 0.5611 - val_department_output_loss: 3.5246 - val_loss: 5.1634\n",
      "Epoch 58/100\n",
      "\u001b[1m28/28\u001b[0m \u001b[32m━━━━━━━━━━━━━━━━━━━━\u001b[0m\u001b[37m\u001b[0m \u001b[1m0s\u001b[0m 6ms/step - attrition_output_accuracy: 1.0000 - attrition_output_loss: 4.2116e-04 - department_output_accuracy: 1.0000 - department_output_loss: 8.3576e-04 - loss: 0.0013 - val_attrition_output_accuracy: 0.7647 - val_attrition_output_loss: 1.6569 - val_department_output_accuracy: 0.5566 - val_department_output_loss: 3.5447 - val_loss: 5.1920\n",
      "Epoch 59/100\n",
      "\u001b[1m28/28\u001b[0m \u001b[32m━━━━━━━━━━━━━━━━━━━━\u001b[0m\u001b[37m\u001b[0m \u001b[1m0s\u001b[0m 4ms/step - attrition_output_accuracy: 1.0000 - attrition_output_loss: 4.1017e-04 - department_output_accuracy: 1.0000 - department_output_loss: 7.7476e-04 - loss: 0.0012 - val_attrition_output_accuracy: 0.7647 - val_attrition_output_loss: 1.6648 - val_department_output_accuracy: 0.5520 - val_department_output_loss: 3.5643 - val_loss: 5.2194\n",
      "Epoch 60/100\n",
      "\u001b[1m28/28\u001b[0m \u001b[32m━━━━━━━━━━━━━━━━━━━━\u001b[0m\u001b[37m\u001b[0m \u001b[1m0s\u001b[0m 4ms/step - attrition_output_accuracy: 1.0000 - attrition_output_loss: 3.7268e-04 - department_output_accuracy: 1.0000 - department_output_loss: 7.8524e-04 - loss: 0.0012 - val_attrition_output_accuracy: 0.7647 - val_attrition_output_loss: 1.6741 - val_department_output_accuracy: 0.5566 - val_department_output_loss: 3.5822 - val_loss: 5.2465\n",
      "Epoch 61/100\n",
      "\u001b[1m28/28\u001b[0m \u001b[32m━━━━━━━━━━━━━━━━━━━━\u001b[0m\u001b[37m\u001b[0m \u001b[1m0s\u001b[0m 3ms/step - attrition_output_accuracy: 1.0000 - attrition_output_loss: 3.5187e-04 - department_output_accuracy: 1.0000 - department_output_loss: 7.2499e-04 - loss: 0.0011 - val_attrition_output_accuracy: 0.7692 - val_attrition_output_loss: 1.6814 - val_department_output_accuracy: 0.5520 - val_department_output_loss: 3.6020 - val_loss: 5.2735\n",
      "Epoch 62/100\n",
      "\u001b[1m28/28\u001b[0m \u001b[32m━━━━━━━━━━━━━━━━━━━━\u001b[0m\u001b[37m\u001b[0m \u001b[1m0s\u001b[0m 4ms/step - attrition_output_accuracy: 1.0000 - attrition_output_loss: 3.6517e-04 - department_output_accuracy: 1.0000 - department_output_loss: 7.1305e-04 - loss: 0.0011 - val_attrition_output_accuracy: 0.7692 - val_attrition_output_loss: 1.6900 - val_department_output_accuracy: 0.5520 - val_department_output_loss: 3.6193 - val_loss: 5.2994\n",
      "Epoch 63/100\n",
      "\u001b[1m28/28\u001b[0m \u001b[32m━━━━━━━━━━━━━━━━━━━━\u001b[0m\u001b[37m\u001b[0m \u001b[1m0s\u001b[0m 3ms/step - attrition_output_accuracy: 1.0000 - attrition_output_loss: 2.6742e-04 - department_output_accuracy: 1.0000 - department_output_loss: 6.5535e-04 - loss: 9.2341e-04 - val_attrition_output_accuracy: 0.7647 - val_attrition_output_loss: 1.6969 - val_department_output_accuracy: 0.5566 - val_department_output_loss: 3.6354 - val_loss: 5.3225\n",
      "Epoch 64/100\n",
      "\u001b[1m28/28\u001b[0m \u001b[32m━━━━━━━━━━━━━━━━━━━━\u001b[0m\u001b[37m\u001b[0m \u001b[1m0s\u001b[0m 4ms/step - attrition_output_accuracy: 1.0000 - attrition_output_loss: 2.9362e-04 - department_output_accuracy: 1.0000 - department_output_loss: 6.3664e-04 - loss: 9.3044e-04 - val_attrition_output_accuracy: 0.7692 - val_attrition_output_loss: 1.7040 - val_department_output_accuracy: 0.5520 - val_department_output_loss: 3.6578 - val_loss: 5.3518\n",
      "Epoch 65/100\n",
      "\u001b[1m28/28\u001b[0m \u001b[32m━━━━━━━━━━━━━━━━━━━━\u001b[0m\u001b[37m\u001b[0m \u001b[1m0s\u001b[0m 4ms/step - attrition_output_accuracy: 1.0000 - attrition_output_loss: 2.9892e-04 - department_output_accuracy: 1.0000 - department_output_loss: 5.9571e-04 - loss: 8.9481e-04 - val_attrition_output_accuracy: 0.7692 - val_attrition_output_loss: 1.7130 - val_department_output_accuracy: 0.5520 - val_department_output_loss: 3.6711 - val_loss: 5.3741\n",
      "Epoch 66/100\n",
      "\u001b[1m28/28\u001b[0m \u001b[32m━━━━━━━━━━━━━━━━━━━━\u001b[0m\u001b[37m\u001b[0m \u001b[1m0s\u001b[0m 6ms/step - attrition_output_accuracy: 1.0000 - attrition_output_loss: 2.8204e-04 - department_output_accuracy: 1.0000 - department_output_loss: 5.7119e-04 - loss: 8.5305e-04 - val_attrition_output_accuracy: 0.7692 - val_attrition_output_loss: 1.7198 - val_department_output_accuracy: 0.5475 - val_department_output_loss: 3.6898 - val_loss: 5.3995\n",
      "Epoch 67/100\n",
      "\u001b[1m28/28\u001b[0m \u001b[32m━━━━━━━━━━━━━━━━━━━━\u001b[0m\u001b[37m\u001b[0m \u001b[1m0s\u001b[0m 5ms/step - attrition_output_accuracy: 1.0000 - attrition_output_loss: 2.6321e-04 - department_output_accuracy: 1.0000 - department_output_loss: 5.4631e-04 - loss: 8.0982e-04 - val_attrition_output_accuracy: 0.7692 - val_attrition_output_loss: 1.7263 - val_department_output_accuracy: 0.5475 - val_department_output_loss: 3.7046 - val_loss: 5.4207\n",
      "Epoch 68/100\n",
      "\u001b[1m28/28\u001b[0m \u001b[32m━━━━━━━━━━━━━━━━━━━━\u001b[0m\u001b[37m\u001b[0m \u001b[1m0s\u001b[0m 5ms/step - attrition_output_accuracy: 1.0000 - attrition_output_loss: 2.5857e-04 - department_output_accuracy: 1.0000 - department_output_loss: 4.8210e-04 - loss: 7.4094e-04 - val_attrition_output_accuracy: 0.7692 - val_attrition_output_loss: 1.7389 - val_department_output_accuracy: 0.5475 - val_department_output_loss: 3.7221 - val_loss: 5.4508\n",
      "Epoch 69/100\n",
      "\u001b[1m28/28\u001b[0m \u001b[32m━━━━━━━━━━━━━━━━━━━━\u001b[0m\u001b[37m\u001b[0m \u001b[1m0s\u001b[0m 6ms/step - attrition_output_accuracy: 1.0000 - attrition_output_loss: 2.4272e-04 - department_output_accuracy: 1.0000 - department_output_loss: 4.9079e-04 - loss: 7.3330e-04 - val_attrition_output_accuracy: 0.7692 - val_attrition_output_loss: 1.7431 - val_department_output_accuracy: 0.5475 - val_department_output_loss: 3.7403 - val_loss: 5.4732\n",
      "Epoch 70/100\n",
      "\u001b[1m28/28\u001b[0m \u001b[32m━━━━━━━━━━━━━━━━━━━━\u001b[0m\u001b[37m\u001b[0m \u001b[1m0s\u001b[0m 4ms/step - attrition_output_accuracy: 1.0000 - attrition_output_loss: 2.4463e-04 - department_output_accuracy: 1.0000 - department_output_loss: 4.6311e-04 - loss: 7.0622e-04 - val_attrition_output_accuracy: 0.7647 - val_attrition_output_loss: 1.7484 - val_department_output_accuracy: 0.5475 - val_department_output_loss: 3.7552 - val_loss: 5.4932\n",
      "Epoch 71/100\n",
      "\u001b[1m28/28\u001b[0m \u001b[32m━━━━━━━━━━━━━━━━━━━━\u001b[0m\u001b[37m\u001b[0m \u001b[1m0s\u001b[0m 5ms/step - attrition_output_accuracy: 1.0000 - attrition_output_loss: 2.3218e-04 - department_output_accuracy: 1.0000 - department_output_loss: 4.4740e-04 - loss: 6.7961e-04 - val_attrition_output_accuracy: 0.7692 - val_attrition_output_loss: 1.7601 - val_department_output_accuracy: 0.5475 - val_department_output_loss: 3.7720 - val_loss: 5.5218\n",
      "Epoch 72/100\n",
      "\u001b[1m28/28\u001b[0m \u001b[32m━━━━━━━━━━━━━━━━━━━━\u001b[0m\u001b[37m\u001b[0m \u001b[1m0s\u001b[0m 4ms/step - attrition_output_accuracy: 1.0000 - attrition_output_loss: 2.0674e-04 - department_output_accuracy: 1.0000 - department_output_loss: 4.5976e-04 - loss: 6.6696e-04 - val_attrition_output_accuracy: 0.7692 - val_attrition_output_loss: 1.7648 - val_department_output_accuracy: 0.5475 - val_department_output_loss: 3.7873 - val_loss: 5.5418\n",
      "Epoch 73/100\n",
      "\u001b[1m28/28\u001b[0m \u001b[32m━━━━━━━━━━━━━━━━━━━━\u001b[0m\u001b[37m\u001b[0m \u001b[1m0s\u001b[0m 5ms/step - attrition_output_accuracy: 1.0000 - attrition_output_loss: 2.1027e-04 - department_output_accuracy: 1.0000 - department_output_loss: 4.9218e-04 - loss: 7.0195e-04 - val_attrition_output_accuracy: 0.7692 - val_attrition_output_loss: 1.7714 - val_department_output_accuracy: 0.5475 - val_department_output_loss: 3.8033 - val_loss: 5.5643\n",
      "Epoch 74/100\n",
      "\u001b[1m28/28\u001b[0m \u001b[32m━━━━━━━━━━━━━━━━━━━━\u001b[0m\u001b[37m\u001b[0m \u001b[1m0s\u001b[0m 4ms/step - attrition_output_accuracy: 1.0000 - attrition_output_loss: 2.0573e-04 - department_output_accuracy: 1.0000 - department_output_loss: 3.8975e-04 - loss: 5.9574e-04 - val_attrition_output_accuracy: 0.7692 - val_attrition_output_loss: 1.7776 - val_department_output_accuracy: 0.5430 - val_department_output_loss: 3.8178 - val_loss: 5.5848\n",
      "Epoch 75/100\n",
      "\u001b[1m28/28\u001b[0m \u001b[32m━━━━━━━━━━━━━━━━━━━━\u001b[0m\u001b[37m\u001b[0m \u001b[1m0s\u001b[0m 4ms/step - attrition_output_accuracy: 1.0000 - attrition_output_loss: 2.2279e-04 - department_output_accuracy: 1.0000 - department_output_loss: 3.6113e-04 - loss: 5.8308e-04 - val_attrition_output_accuracy: 0.7692 - val_attrition_output_loss: 1.7861 - val_department_output_accuracy: 0.5430 - val_department_output_loss: 3.8348 - val_loss: 5.6104\n",
      "Epoch 76/100\n",
      "\u001b[1m28/28\u001b[0m \u001b[32m━━━━━━━━━━━━━━━━━━━━\u001b[0m\u001b[37m\u001b[0m \u001b[1m0s\u001b[0m 4ms/step - attrition_output_accuracy: 1.0000 - attrition_output_loss: 1.7412e-04 - department_output_accuracy: 1.0000 - department_output_loss: 4.0718e-04 - loss: 5.8124e-04 - val_attrition_output_accuracy: 0.7647 - val_attrition_output_loss: 1.7898 - val_department_output_accuracy: 0.5430 - val_department_output_loss: 3.8492 - val_loss: 5.6284\n",
      "Epoch 77/100\n",
      "\u001b[1m28/28\u001b[0m \u001b[32m━━━━━━━━━━━━━━━━━━━━\u001b[0m\u001b[37m\u001b[0m \u001b[1m0s\u001b[0m 4ms/step - attrition_output_accuracy: 1.0000 - attrition_output_loss: 1.9544e-04 - department_output_accuracy: 1.0000 - department_output_loss: 3.5742e-04 - loss: 5.5301e-04 - val_attrition_output_accuracy: 0.7692 - val_attrition_output_loss: 1.7970 - val_department_output_accuracy: 0.5475 - val_department_output_loss: 3.8608 - val_loss: 5.6473\n",
      "Epoch 78/100\n",
      "\u001b[1m28/28\u001b[0m \u001b[32m━━━━━━━━━━━━━━━━━━━━\u001b[0m\u001b[37m\u001b[0m \u001b[1m0s\u001b[0m 4ms/step - attrition_output_accuracy: 1.0000 - attrition_output_loss: 1.6377e-04 - department_output_accuracy: 1.0000 - department_output_loss: 3.6462e-04 - loss: 5.2863e-04 - val_attrition_output_accuracy: 0.7692 - val_attrition_output_loss: 1.8051 - val_department_output_accuracy: 0.5430 - val_department_output_loss: 3.8829 - val_loss: 5.6775\n",
      "Epoch 79/100\n",
      "\u001b[1m28/28\u001b[0m \u001b[32m━━━━━━━━━━━━━━━━━━━━\u001b[0m\u001b[37m\u001b[0m \u001b[1m0s\u001b[0m 4ms/step - attrition_output_accuracy: 1.0000 - attrition_output_loss: 1.6408e-04 - department_output_accuracy: 1.0000 - department_output_loss: 3.8981e-04 - loss: 5.5384e-04 - val_attrition_output_accuracy: 0.7647 - val_attrition_output_loss: 1.8092 - val_department_output_accuracy: 0.5430 - val_department_output_loss: 3.8929 - val_loss: 5.6915\n",
      "Epoch 80/100\n",
      "\u001b[1m28/28\u001b[0m \u001b[32m━━━━━━━━━━━━━━━━━━━━\u001b[0m\u001b[37m\u001b[0m \u001b[1m0s\u001b[0m 5ms/step - attrition_output_accuracy: 1.0000 - attrition_output_loss: 1.7173e-04 - department_output_accuracy: 1.0000 - department_output_loss: 3.1644e-04 - loss: 4.8773e-04 - val_attrition_output_accuracy: 0.7692 - val_attrition_output_loss: 1.8155 - val_department_output_accuracy: 0.5430 - val_department_output_loss: 3.9089 - val_loss: 5.7137\n",
      "Epoch 81/100\n",
      "\u001b[1m28/28\u001b[0m \u001b[32m━━━━━━━━━━━━━━━━━━━━\u001b[0m\u001b[37m\u001b[0m \u001b[1m0s\u001b[0m 4ms/step - attrition_output_accuracy: 1.0000 - attrition_output_loss: 1.6593e-04 - department_output_accuracy: 1.0000 - department_output_loss: 3.2323e-04 - loss: 4.8923e-04 - val_attrition_output_accuracy: 0.7647 - val_attrition_output_loss: 1.8221 - val_department_output_accuracy: 0.5430 - val_department_output_loss: 3.9194 - val_loss: 5.7308\n",
      "Epoch 82/100\n",
      "\u001b[1m28/28\u001b[0m \u001b[32m━━━━━━━━━━━━━━━━━━━━\u001b[0m\u001b[37m\u001b[0m \u001b[1m0s\u001b[0m 4ms/step - attrition_output_accuracy: 1.0000 - attrition_output_loss: 1.5040e-04 - department_output_accuracy: 1.0000 - department_output_loss: 2.8188e-04 - loss: 4.3230e-04 - val_attrition_output_accuracy: 0.7647 - val_attrition_output_loss: 1.8291 - val_department_output_accuracy: 0.5430 - val_department_output_loss: 3.9372 - val_loss: 5.7555\n",
      "Epoch 83/100\n",
      "\u001b[1m28/28\u001b[0m \u001b[32m━━━━━━━━━━━━━━━━━━━━\u001b[0m\u001b[37m\u001b[0m \u001b[1m0s\u001b[0m 5ms/step - attrition_output_accuracy: 1.0000 - attrition_output_loss: 1.3592e-04 - department_output_accuracy: 1.0000 - department_output_loss: 2.5812e-04 - loss: 3.9382e-04 - val_attrition_output_accuracy: 0.7647 - val_attrition_output_loss: 1.8333 - val_department_output_accuracy: 0.5430 - val_department_output_loss: 3.9470 - val_loss: 5.7694\n",
      "Epoch 84/100\n",
      "\u001b[1m28/28\u001b[0m \u001b[32m━━━━━━━━━━━━━━━━━━━━\u001b[0m\u001b[37m\u001b[0m \u001b[1m0s\u001b[0m 7ms/step - attrition_output_accuracy: 1.0000 - attrition_output_loss: 1.3713e-04 - department_output_accuracy: 1.0000 - department_output_loss: 2.8223e-04 - loss: 4.1935e-04 - val_attrition_output_accuracy: 0.7647 - val_attrition_output_loss: 1.8396 - val_department_output_accuracy: 0.5430 - val_department_output_loss: 3.9621 - val_loss: 5.7909\n",
      "Epoch 85/100\n",
      "\u001b[1m28/28\u001b[0m \u001b[32m━━━━━━━━━━━━━━━━━━━━\u001b[0m\u001b[37m\u001b[0m \u001b[1m0s\u001b[0m 4ms/step - attrition_output_accuracy: 1.0000 - attrition_output_loss: 1.2829e-04 - department_output_accuracy: 1.0000 - department_output_loss: 2.7756e-04 - loss: 4.0547e-04 - val_attrition_output_accuracy: 0.7647 - val_attrition_output_loss: 1.8461 - val_department_output_accuracy: 0.5430 - val_department_output_loss: 3.9776 - val_loss: 5.8128\n",
      "Epoch 86/100\n",
      "\u001b[1m28/28\u001b[0m \u001b[32m━━━━━━━━━━━━━━━━━━━━\u001b[0m\u001b[37m\u001b[0m \u001b[1m0s\u001b[0m 5ms/step - attrition_output_accuracy: 1.0000 - attrition_output_loss: 1.3273e-04 - department_output_accuracy: 1.0000 - department_output_loss: 2.4885e-04 - loss: 3.8123e-04 - val_attrition_output_accuracy: 0.7647 - val_attrition_output_loss: 1.8551 - val_department_output_accuracy: 0.5430 - val_department_output_loss: 3.9891 - val_loss: 5.8332\n",
      "Epoch 87/100\n",
      "\u001b[1m28/28\u001b[0m \u001b[32m━━━━━━━━━━━━━━━━━━━━\u001b[0m\u001b[37m\u001b[0m \u001b[1m0s\u001b[0m 5ms/step - attrition_output_accuracy: 1.0000 - attrition_output_loss: 1.1959e-04 - department_output_accuracy: 1.0000 - department_output_loss: 2.3790e-04 - loss: 3.5751e-04 - val_attrition_output_accuracy: 0.7647 - val_attrition_output_loss: 1.8570 - val_department_output_accuracy: 0.5475 - val_department_output_loss: 4.0030 - val_loss: 5.8489\n",
      "Epoch 88/100\n",
      "\u001b[1m28/28\u001b[0m \u001b[32m━━━━━━━━━━━━━━━━━━━━\u001b[0m\u001b[37m\u001b[0m \u001b[1m0s\u001b[0m 7ms/step - attrition_output_accuracy: 1.0000 - attrition_output_loss: 1.1857e-04 - department_output_accuracy: 1.0000 - department_output_loss: 2.0792e-04 - loss: 3.2641e-04 - val_attrition_output_accuracy: 0.7647 - val_attrition_output_loss: 1.8656 - val_department_output_accuracy: 0.5430 - val_department_output_loss: 4.0173 - val_loss: 5.8719\n",
      "Epoch 89/100\n",
      "\u001b[1m28/28\u001b[0m \u001b[32m━━━━━━━━━━━━━━━━━━━━\u001b[0m\u001b[37m\u001b[0m \u001b[1m0s\u001b[0m 7ms/step - attrition_output_accuracy: 1.0000 - attrition_output_loss: 1.2468e-04 - department_output_accuracy: 1.0000 - department_output_loss: 2.4206e-04 - loss: 3.6681e-04 - val_attrition_output_accuracy: 0.7647 - val_attrition_output_loss: 1.8681 - val_department_output_accuracy: 0.5430 - val_department_output_loss: 4.0282 - val_loss: 5.8852\n",
      "Epoch 90/100\n",
      "\u001b[1m28/28\u001b[0m \u001b[32m━━━━━━━━━━━━━━━━━━━━\u001b[0m\u001b[37m\u001b[0m \u001b[1m0s\u001b[0m 7ms/step - attrition_output_accuracy: 1.0000 - attrition_output_loss: 1.2720e-04 - department_output_accuracy: 1.0000 - department_output_loss: 2.2277e-04 - loss: 3.4998e-04 - val_attrition_output_accuracy: 0.7647 - val_attrition_output_loss: 1.8739 - val_department_output_accuracy: 0.5475 - val_department_output_loss: 4.0425 - val_loss: 5.9051\n",
      "Epoch 91/100\n",
      "\u001b[1m28/28\u001b[0m \u001b[32m━━━━━━━━━━━━━━━━━━━━\u001b[0m\u001b[37m\u001b[0m \u001b[1m0s\u001b[0m 7ms/step - attrition_output_accuracy: 1.0000 - attrition_output_loss: 1.2200e-04 - department_output_accuracy: 1.0000 - department_output_loss: 2.1969e-04 - loss: 3.4155e-04 - val_attrition_output_accuracy: 0.7647 - val_attrition_output_loss: 1.8797 - val_department_output_accuracy: 0.5520 - val_department_output_loss: 4.0577 - val_loss: 5.9262\n",
      "Epoch 92/100\n",
      "\u001b[1m28/28\u001b[0m \u001b[32m━━━━━━━━━━━━━━━━━━━━\u001b[0m\u001b[37m\u001b[0m \u001b[1m0s\u001b[0m 4ms/step - attrition_output_accuracy: 1.0000 - attrition_output_loss: 1.0961e-04 - department_output_accuracy: 1.0000 - department_output_loss: 2.0178e-04 - loss: 3.1138e-04 - val_attrition_output_accuracy: 0.7647 - val_attrition_output_loss: 1.8869 - val_department_output_accuracy: 0.5520 - val_department_output_loss: 4.0695 - val_loss: 5.9451\n",
      "Epoch 93/100\n",
      "\u001b[1m28/28\u001b[0m \u001b[32m━━━━━━━━━━━━━━━━━━━━\u001b[0m\u001b[37m\u001b[0m \u001b[1m0s\u001b[0m 4ms/step - attrition_output_accuracy: 1.0000 - attrition_output_loss: 9.3341e-05 - department_output_accuracy: 1.0000 - department_output_loss: 2.0226e-04 - loss: 2.9536e-04 - val_attrition_output_accuracy: 0.7647 - val_attrition_output_loss: 1.8917 - val_department_output_accuracy: 0.5520 - val_department_output_loss: 4.0808 - val_loss: 5.9612\n",
      "Epoch 94/100\n",
      "\u001b[1m28/28\u001b[0m \u001b[32m━━━━━━━━━━━━━━━━━━━━\u001b[0m\u001b[37m\u001b[0m \u001b[1m0s\u001b[0m 5ms/step - attrition_output_accuracy: 1.0000 - attrition_output_loss: 1.0452e-04 - department_output_accuracy: 1.0000 - department_output_loss: 1.9731e-04 - loss: 3.0165e-04 - val_attrition_output_accuracy: 0.7647 - val_attrition_output_loss: 1.8960 - val_department_output_accuracy: 0.5520 - val_department_output_loss: 4.0929 - val_loss: 5.9775\n",
      "Epoch 95/100\n",
      "\u001b[1m28/28\u001b[0m \u001b[32m━━━━━━━━━━━━━━━━━━━━\u001b[0m\u001b[37m\u001b[0m \u001b[1m0s\u001b[0m 6ms/step - attrition_output_accuracy: 1.0000 - attrition_output_loss: 9.3723e-05 - department_output_accuracy: 1.0000 - department_output_loss: 1.7942e-04 - loss: 2.7321e-04 - val_attrition_output_accuracy: 0.7647 - val_attrition_output_loss: 1.9032 - val_department_output_accuracy: 0.5475 - val_department_output_loss: 4.1074 - val_loss: 5.9992\n",
      "Epoch 96/100\n",
      "\u001b[1m28/28\u001b[0m \u001b[32m━━━━━━━━━━━━━━━━━━━━\u001b[0m\u001b[37m\u001b[0m \u001b[1m0s\u001b[0m 6ms/step - attrition_output_accuracy: 1.0000 - attrition_output_loss: 1.1018e-04 - department_output_accuracy: 1.0000 - department_output_loss: 1.8596e-04 - loss: 2.9623e-04 - val_attrition_output_accuracy: 0.7602 - val_attrition_output_loss: 1.9058 - val_department_output_accuracy: 0.5475 - val_department_output_loss: 4.1197 - val_loss: 6.0140\n",
      "Epoch 97/100\n",
      "\u001b[1m28/28\u001b[0m \u001b[32m━━━━━━━━━━━━━━━━━━━━\u001b[0m\u001b[37m\u001b[0m \u001b[1m0s\u001b[0m 4ms/step - attrition_output_accuracy: 1.0000 - attrition_output_loss: 8.9067e-05 - department_output_accuracy: 1.0000 - department_output_loss: 1.7517e-04 - loss: 2.6407e-04 - val_attrition_output_accuracy: 0.7647 - val_attrition_output_loss: 1.9128 - val_department_output_accuracy: 0.5520 - val_department_output_loss: 4.1339 - val_loss: 6.0352\n",
      "Epoch 98/100\n",
      "\u001b[1m28/28\u001b[0m \u001b[32m━━━━━━━━━━━━━━━━━━━━\u001b[0m\u001b[37m\u001b[0m \u001b[1m0s\u001b[0m 6ms/step - attrition_output_accuracy: 1.0000 - attrition_output_loss: 9.0627e-05 - department_output_accuracy: 1.0000 - department_output_loss: 1.8261e-04 - loss: 2.7325e-04 - val_attrition_output_accuracy: 0.7647 - val_attrition_output_loss: 1.9193 - val_department_output_accuracy: 0.5520 - val_department_output_loss: 4.1430 - val_loss: 6.0507\n",
      "Epoch 99/100\n",
      "\u001b[1m28/28\u001b[0m \u001b[32m━━━━━━━━━━━━━━━━━━━━\u001b[0m\u001b[37m\u001b[0m \u001b[1m0s\u001b[0m 6ms/step - attrition_output_accuracy: 1.0000 - attrition_output_loss: 8.7779e-05 - department_output_accuracy: 1.0000 - department_output_loss: 1.7714e-04 - loss: 2.6497e-04 - val_attrition_output_accuracy: 0.7647 - val_attrition_output_loss: 1.9226 - val_department_output_accuracy: 0.5475 - val_department_output_loss: 4.1541 - val_loss: 6.0650\n",
      "Epoch 100/100\n",
      "\u001b[1m28/28\u001b[0m \u001b[32m━━━━━━━━━━━━━━━━━━━━\u001b[0m\u001b[37m\u001b[0m \u001b[1m0s\u001b[0m 6ms/step - attrition_output_accuracy: 1.0000 - attrition_output_loss: 7.8988e-05 - department_output_accuracy: 1.0000 - department_output_loss: 1.8717e-04 - loss: 2.6624e-04 - val_attrition_output_accuracy: 0.7647 - val_attrition_output_loss: 1.9291 - val_department_output_accuracy: 0.5520 - val_department_output_loss: 4.1673 - val_loss: 6.0848\n"
     ]
    }
   ],
   "source": [
    "# Train the model\n",
    "\n",
    "history = model.fit(\n",
    "    X_train_scaled, \n",
    "    [department_train_encoded, attrition_train_encoded], \n",
    "    epochs=100,  \n",
    "    batch_size=32,\n",
    "    validation_split=0.2\n",
    ")"
   ]
  },
  {
   "cell_type": "code",
   "execution_count": 17,
   "metadata": {
    "colab": {
     "base_uri": "https://localhost:8080/"
    },
    "id": "ZlCtlHi0Vt54",
    "outputId": "bc21ef3e-80c2-4b38-9c29-79515bc23dec"
   },
   "outputs": [
    {
     "name": "stdout",
     "output_type": "stream",
     "text": [
      "\u001b[1m12/12\u001b[0m \u001b[32m━━━━━━━━━━━━━━━━━━━━\u001b[0m\u001b[37m\u001b[0m \u001b[1m0s\u001b[0m 3ms/step - attrition_output_accuracy: 0.7554 - attrition_output_loss: 2.0697 - department_output_accuracy: 0.5171 - department_output_loss: 4.5779 - loss: 6.6763\n"
     ]
    }
   ],
   "source": [
    "# Evaluate the model with the testing data\n",
    "loss, department_loss, attrition_loss, department_accuracy, attrition_accuracy = model.evaluate(\n",
    "    X_test_scaled, \n",
    "    [department_test_encoded, attrition_test_encoded]\n",
    ")"
   ]
  },
  {
   "cell_type": "code",
   "execution_count": 18,
   "metadata": {
    "colab": {
     "base_uri": "https://localhost:8080/"
    },
    "id": "ZlCtlHi0Vt54",
    "outputId": "bc21ef3e-80c2-4b38-9c29-79515bc23dec"
   },
   "outputs": [
    {
     "name": "stdout",
     "output_type": "stream",
     "text": [
      "Department Accuracy: 0.7853\n",
      "Attrition Accuracy: 0.5435\n"
     ]
    }
   ],
   "source": [
    "# Print the accuracy for both department and attrition\n",
    "\n",
    "print(f\"Department Accuracy: {department_accuracy:.4f}\")\n",
    "print(f\"Attrition Accuracy: {attrition_accuracy:.4f}\")"
   ]
  },
  {
   "cell_type": "markdown",
   "metadata": {
    "id": "eGSyfsZfWOQM"
   },
   "source": [
    "# Summary\n",
    "\n",
    "In the provided space below, briefly answer the following questions.\n",
    "\n",
    "1. Is accuracy the best metric to use on this data? Why or why not?\n",
    "\n",
    "2. What activation functions did you choose for your output layers, and why?\n",
    "\n",
    "3. Can you name a few ways that this model might be improved?"
   ]
  },
  {
   "cell_type": "markdown",
   "metadata": {
    "id": "pi9SLpFnWvbF"
   },
   "source": [
    "YOUR ANSWERS HERE\n",
    "\n",
    "1. Accurancy is probably not the best metric to use on this data because based on value counts below, the data is imbalanced.\n",
    "2. I used relu and softmax.  relu seemed appropriate as it is the one we mainly use in class and were told it was good to usefor complex patterns so thought departments was more complex than attrition.  i used softmax on the attrition as it was not binary and was first one i found that was not relu or sigmoid\n",
    "3. I would add more layers, maybe run more epochs - try different activation functions - maybe."
   ]
  }
 ],
 "metadata": {
  "colab": {
   "provenance": []
  },
  "kernelspec": {
   "display_name": "Python 3 (ipykernel)",
   "language": "python",
   "name": "python3"
  },
  "language_info": {
   "codemirror_mode": {
    "name": "ipython",
    "version": 3
   },
   "file_extension": ".py",
   "mimetype": "text/x-python",
   "name": "python",
   "nbconvert_exporter": "python",
   "pygments_lexer": "ipython3",
   "version": "3.12.4"
  },
  "vscode": {
   "interpreter": {
    "hash": "31f2aee4e71d21fbe5cf8b01ff0e069b9275f58929596ceb00d14d90e3e16cd6"
   }
  }
 },
 "nbformat": 4,
 "nbformat_minor": 4
}
